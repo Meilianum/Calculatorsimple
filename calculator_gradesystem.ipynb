{
  "cells": [
    {
      "cell_type": "markdown",
      "metadata": {
        "id": "view-in-github",
        "colab_type": "text"
      },
      "source": [
        "<a href=\"https://colab.research.google.com/github/Meilianum/Calculatorsimple/blob/main/calculator_gradesystem.ipynb\" target=\"_parent\"><img src=\"https://colab.research.google.com/assets/colab-badge.svg\" alt=\"Open In Colab\"/></a>"
      ]
    },
    {
      "cell_type": "code",
      "execution_count": null,
      "metadata": {
        "id": "VUiuVAKT5L-G"
      },
      "outputs": [],
      "source": []
    },
    {
      "cell_type": "markdown",
      "metadata": {
        "id": "bt9svztz5Px-"
      },
      "source": [
        "### ***four_operations_calculator.py (because it does +, -, *, /)***"
      ]
    },
    {
      "cell_type": "code",
      "execution_count": null,
      "metadata": {
        "colab": {
          "base_uri": "https://localhost:8080/"
        },
        "id": "rCwy0DCV7fqr",
        "outputId": "e22de32c-2d7f-4aca-8385-76f66224853b"
      },
      "outputs": [
        {
          "name": "stdout",
          "output_type": "stream",
          "text": [
            "four_operations_calculator.py (because it does +, -, *, /)\n"
          ]
        }
      ],
      "source": []
    },
    {
      "cell_type": "code",
      "execution_count": null,
      "metadata": {
        "colab": {
          "base_uri": "https://localhost:8080/"
        },
        "id": "6GcQEf1Z5V0y",
        "outputId": "8ee70872-be67-4819-d577-2a8949f55321"
      },
      "outputs": [
        {
          "output_type": "stream",
          "name": "stdout",
          "text": [
            "Select Operation:\n",
            "1.  Add\n",
            "2.  Subtract\n",
            "3.  Multiply\n",
            "4.  Divide\n",
            "5.  Exit\n",
            "6.  Mudilo\n",
            "7.power\n",
            "Enter choice Add/Subtract/Multiply/Divide/Exit/Modilo/power (1/2/3/4/5/6/7): 6\n",
            "Enter first number: 2\n",
            "Enter second number: 12\n",
            "the result is:2\n"
          ]
        }
      ],
      "source": [
        "def add(x, y):\n",
        "    return x + y\n",
        "\n",
        "def subtract(x, y):\n",
        "    return x - y\n",
        "\n",
        "def multiply(x, y):\n",
        "    return x * y\n",
        "def  modilo(x,y):\n",
        "   return x%y\n",
        "def power(x,y):\n",
        "    return x**y\n",
        "def   Exit(x,y) :\n",
        "     return x,y\n",
        "\n",
        "def divide(x, y):\n",
        "    if y != 0:\n",
        "        return x / y\n",
        "    else:\n",
        "        return \"Error! Division by zero.\"\n",
        "\n",
        "print(\"Select Operation:\")\n",
        "print(\"1.  Add\")\n",
        "print(\"2.  Subtract\")\n",
        "print(\"3.  Multiply\")\n",
        "print(\"4.  Divide\")\n",
        "print(\"5.  Exit\")\n",
        "print(\"6.  Mudilo\")\n",
        "print(\"7.  power\")\n",
        "\n",
        "choice = input(\"Enter choice Add/Subtract/Multiply/Divide/Exit/Modilo/power (1/2/3/4/5/6/7): \")\n",
        "\n",
        "num1 = int(input(\"Enter first number: \"))\n",
        "num2 = int(input(\"Enter second number: \"))\n",
        "\n",
        "if choice == '1':\n",
        "    print(f\"The result is: {add(num1, num2)}\")\n",
        "elif choice == '2':\n",
        "    print(f\"The result is: {subtract(num1, num2)}\")\n",
        "elif choice == '3':\n",
        "    print(f\"The result is: {multiply(num1, num2)}\")\n",
        "elif choice == '4':\n",
        "    print(f\"The result is: {divide(num1, num2)}\")\n",
        "elif choice== '5':\n",
        "  print (f\"The result is: {Exit(num1,num2)}\")\n",
        "elif choice == '6':\n",
        "    print(f\"the result is:{modilo(num1,num2)}\")\n",
        "elif  choice == '7':\n",
        "   print(f\"The result is: {power(num1,num2)}\")\n",
        "else:\n",
        "    print(\"Invalid input! Please choose a valid option.\")\n",
        "\n"
      ]
    },
    {
      "cell_type": "markdown",
      "source": [
        "# ***GRADE SYSTEM***"
      ],
      "metadata": {
        "id": "ayUk3QxuXR98"
      }
    },
    {
      "cell_type": "code",
      "source": [
        "Marks = int(input(\"Enter your marks: \"))\n",
        "\n",
        "if Marks == 90:\n",
        "    print(\"Congratulations! You have achieved Grade A.\")\n",
        "elif Marks >= 70 and Marks < 80:\n",
        "    print(\"Well done! Your grade is B.\")\n",
        "elif Marks >= 60 and Marks < 70:\n",
        "    print(\"Good job! Your grade is C.\")\n",
        "elif Marks >= 40 and Marks < 50:\n",
        "    print(\"You passed. Your grade is D.\")\n",
        "elif Marks >= 35 and Marks < 40:\n",
        "    print(\"Sorry, you have failed. Try harder next time.\")\n",
        "else:\n",
        "    print(\"Invalid marks entered.\")\n"
      ],
      "metadata": {
        "colab": {
          "base_uri": "https://localhost:8080/"
        },
        "id": "jSqLIJn0bIKY",
        "outputId": "77ad6710-37d0-4f14-a361-176d0d89fe92"
      },
      "execution_count": null,
      "outputs": [
        {
          "output_type": "stream",
          "name": "stdout",
          "text": [
            "Enter your marks: 90\n",
            "Congratulations! You have achieved Grade A.\n"
          ]
        }
      ]
    }
  ],
  "metadata": {
    "colab": {
      "provenance": [],
      "authorship_tag": "ABX9TyNo+4FR54PNLlOjbqM1i8qN",
      "include_colab_link": true
    },
    "kernelspec": {
      "display_name": "Python 3",
      "name": "python3"
    },
    "language_info": {
      "name": "python"
    }
  },
  "nbformat": 4,
  "nbformat_minor": 0
}